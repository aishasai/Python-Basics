{
 "cells": [
  {
   "cell_type": "markdown",
   "metadata": {},
   "source": [
    " Dict\n",
    " * use {}\n",
    " *key vale pair"
   ]
  },
  {
   "cell_type": "code",
   "execution_count": 5,
   "metadata": {},
   "outputs": [
    {
     "name": "stdout",
     "output_type": "stream",
     "text": [
      "{(1, 2, 3): ('M', 'k', 'S'), 'Age': 28}\n"
     ]
    },
    {
     "data": {
      "text/plain": [
       "dict_keys([(1, 2, 3), 'Age'])"
      ]
     },
     "execution_count": 5,
     "metadata": {},
     "output_type": "execute_result"
    }
   ],
   "source": [
    "dict1= {(1,2,3):(\"M\",\"k\",\"S\"),\"Age\": 28}#(1,2,3,) is the key : (\"M\",\"k\",\"S\") is the values\n",
    "print(dict1)\n",
    "dict1.keys()\n",
    "\n"
   ]
  },
  {
   "cell_type": "code",
   "execution_count": 6,
   "metadata": {},
   "outputs": [
    {
     "name": "stdout",
     "output_type": "stream",
     "text": [
      "{(1, 2, 3): ('M', 'k', 'S'), 'Age': 28, 'sal': [200, 3000]}\n"
     ]
    }
   ],
   "source": [
    "#adding new key and value\n",
    "dict1[\"sal\"] = [200,3000]\n",
    "print(dict1)\n",
    "\n"
   ]
  },
  {
   "cell_type": "code",
   "execution_count": 7,
   "metadata": {},
   "outputs": [
    {
     "name": "stdout",
     "output_type": "stream",
     "text": [
      "[(1, 2, 3), 'Age', 'sal']\n"
     ]
    },
    {
     "data": {
      "text/plain": [
       "[('M', 'k', 'S'), 28, [200, 3000]]"
      ]
     },
     "execution_count": 7,
     "metadata": {},
     "output_type": "execute_result"
    }
   ],
   "source": [
    "#Taking the keys and values in list\n",
    "list1= list(dict1.keys())\n",
    "print(list1)\n",
    "\n",
    "#values\n",
    "list2= list(dict1.values())\n",
    "list2\n",
    "\n"
   ]
  },
  {
   "cell_type": "code",
   "execution_count": 8,
   "metadata": {},
   "outputs": [
    {
     "data": {
      "text/plain": [
       "[8]"
      ]
     },
     "execution_count": 8,
     "metadata": {},
     "output_type": "execute_result"
    }
   ],
   "source": [
    "elements = [1,2,3,4,5,6,7,8]\n",
    "out=[]\n",
    "for num in elements:\n",
    "    out1=[]\n",
    "    if num>5:\n",
    "        out.append(num)\n",
    "        out1.append(num)\n",
    "        \n",
    "\n",
    "\n",
    "out\n",
    "\n",
    "\n",
    "out1"
   ]
  },
  {
   "cell_type": "code",
   "execution_count": 6,
   "metadata": {},
   "outputs": [
    {
     "name": "stdout",
     "output_type": "stream",
     "text": [
      "dict_keys(['name', 'age', 'phone', 'address'])\n"
     ]
    },
    {
     "data": {
      "text/plain": [
       "'346578865534'"
      ]
     },
     "execution_count": 6,
     "metadata": {},
     "output_type": "execute_result"
    }
   ],
   "source": [
    "studentInfo = {\n",
    "            \"name\":\"Parag\",\n",
    "            \"age\":20,\n",
    "            \"phone\":\"9889777867\",\n",
    "            \"address\" : {\n",
    "                        \"Home\":\"Daadys\",\n",
    "                        \"Office\":\"ECity\"\n",
    "                        }\n",
    "            }\n",
    "\n",
    "\n",
    "\n",
    "print(studentInfo.keys()) # will give the keys\n",
    "studentInfo.values() # Will give all the values\n",
    "\n",
    "studentInfo['name']\n",
    "studentInfo['age']\n",
    "studentInfo['address']\n",
    "studentInfo['address']['Home']\n",
    "studentInfo['address']['Office']\n",
    "\n",
    "\n",
    "studentInfo1 = {\n",
    "            (\"name\",\"Men\"):\"Parag\",\n",
    "            \"age\":20,\n",
    "            \"phone\":[\"9889777867\",\"346578865534\"],\n",
    "            \"address\" : {\n",
    "                        \"Home\":\"Daadys\",\n",
    "                        \"Office\":\"ECity\"\n",
    "                        }\n",
    "            }\n",
    "\n",
    "studentInfo1[('name',\"Men\")] # key cannot be a list but can be a tuple\n",
    "\n",
    "studentInfo1[\"phone\"][1]\n"
   ]
  },
  {
   "cell_type": "code",
   "execution_count": 14,
   "metadata": {},
   "outputs": [],
   "source": [
    "months = { 1 : \"January\", \n",
    "          2 : \"February\", \n",
    "         3 : \"March\", \n",
    "        4 : \"April\", \n",
    "     5 : \"May\", \n",
    "     6 : \"June\", \n",
    "    7 : \"July\",\n",
    "        8 : \"August\",\n",
    "    9 : \"September\", \n",
    "    10 : \"October\", \n",
    "        11 : \"November\",\n",
    "    12 : \"December\" } "
   ]
  },
  {
   "cell_type": "code",
   "execution_count": 15,
   "metadata": {},
   "outputs": [],
   "source": [
    "months.keys()\n",
    "del(months[1])"
   ]
  },
  {
   "cell_type": "code",
   "execution_count": 16,
   "metadata": {},
   "outputs": [
    {
     "data": {
      "text/plain": [
       "dict_keys([2, 3, 4, 5, 6, 7, 8, 9, 10, 11, 12])"
      ]
     },
     "execution_count": 16,
     "metadata": {},
     "output_type": "execute_result"
    }
   ],
   "source": [
    "months.keys()"
   ]
  },
  {
   "cell_type": "code",
   "execution_count": 19,
   "metadata": {},
   "outputs": [
    {
     "name": "stdout",
     "output_type": "stream",
     "text": [
      "2\n",
      "3\n",
      "4\n",
      "5\n",
      "6\n",
      "7\n",
      "8\n",
      "9\n",
      "10\n",
      "11\n",
      "12\n"
     ]
    },
    {
     "data": {
      "text/plain": [
       "[None, None, None, None, None, None, None, None, None, None, None]"
      ]
     },
     "execution_count": 19,
     "metadata": {},
     "output_type": "execute_result"
    }
   ],
   "source": [
    "[print(x) for x in months] # what is this none???"
   ]
  },
  {
   "cell_type": "code",
   "execution_count": 25,
   "metadata": {},
   "outputs": [
    {
     "name": "stdout",
     "output_type": "stream",
     "text": [
      "2 February\n",
      "3 March\n",
      "4 April\n",
      "5 May\n",
      "6 June\n",
      "7 July\n",
      "8 August\n",
      "9 September\n",
      "10 October\n",
      "11 November\n",
      "12 December\n"
     ]
    }
   ],
   "source": [
    "for i, k in months.items(): #iteritems() can also be used\n",
    "    print(i,k)"
   ]
  },
  {
   "cell_type": "code",
   "execution_count": 27,
   "metadata": {},
   "outputs": [
    {
     "name": "stdout",
     "output_type": "stream",
     "text": [
      "1 John\n",
      "2\n",
      "3\n",
      "John\n",
      "Smith\n",
      "Andersson\n"
     ]
    },
    {
     "data": {
      "text/plain": [
       "3"
      ]
     },
     "execution_count": 27,
     "metadata": {},
     "output_type": "execute_result"
    }
   ],
   "source": [
    "customers = [{\"uid\":1,\"name\":\"John\"},\n",
    "             {\"uid\":2,\"name\":\"Smith\"},\n",
    "             {\"uid\":3,\"name\":\"Andersson\"},\n",
    "            ]\n",
    "print(customers[0][\"uid\"], customers[0]['name'])\n",
    "print(customers[1][\"uid\"])\n",
    "print(customers[2][\"uid\"])\n",
    "print(customers[0]['name'])\n",
    "print(customers[1]['name'])\n",
    "print(customers[2]['name'])\n",
    "\n",
    "len(customers)"
   ]
  },
  {
   "cell_type": "code",
   "execution_count": 28,
   "metadata": {},
   "outputs": [
    {
     "name": "stdout",
     "output_type": "stream",
     "text": [
      "1 John\n",
      "2 Smith\n",
      "3 Andersson\n"
     ]
    }
   ],
   "source": [
    "for x in customers:\n",
    "    print(x['uid'],x['name'])\n"
   ]
  },
  {
   "cell_type": "code",
   "execution_count": null,
   "metadata": {},
   "outputs": [],
   "source": [
    "customers1 = {\n",
    "             \"uid1\":1,\"name\":\"John\",\n",
    "             \"uid2\":2,\"name\":\"Smith\",\n",
    "             \"uid3\":3,\"name\":\"Andersson\",\n",
    "            }\n",
    "            \n",
    "print(customers1)\n",
    "customers2 = {\n",
    "             \"uid1\":1,\"name\":\"John\",\n",
    "             \"uid2\":2,\"name1\":\"Smith\",\n",
    "             \"uid3\":3,\"name2\":\"Andersson\",\n",
    "            }\n",
    "\n",
    "customers2\n",
    "#key and value name should not be the same"
   ]
  },
  {
   "cell_type": "code",
   "execution_count": 29,
   "metadata": {},
   "outputs": [
    {
     "name": "stdout",
     "output_type": "stream",
     "text": [
      "a\n",
      "b\n",
      "c\n"
     ]
    },
    {
     "data": {
      "text/plain": [
       "600"
      ]
     },
     "execution_count": 29,
     "metadata": {},
     "output_type": "execute_result"
    }
   ],
   "source": [
    "Input1 = {'a': 100, 'b':200, 'c':300}\n",
    "\n",
    "sum=0    \n",
    "for i in Input1:\n",
    "     sum=sum+ Input1[i]; print(i)\n",
    "         \n",
    "sum     #Doubt on iteration   "
   ]
  },
  {
   "cell_type": "code",
   "execution_count": 8,
   "metadata": {},
   "outputs": [
    {
     "data": {
      "text/plain": [
       "6"
      ]
     },
     "execution_count": 8,
     "metadata": {},
     "output_type": "execute_result"
    }
   ],
   "source": [
    "import operator\n",
    "operator.add(2,3)\n",
    "sum([1,2,3])\n",
    "operator.mul(2,3)\n",
    "\n",
    "#lt(lessthan),le(less than equal to),gt,ge,eq,ne"
   ]
  }
 ],
 "metadata": {
  "kernelspec": {
   "display_name": "Python 3",
   "language": "python",
   "name": "python3"
  },
  "language_info": {
   "codemirror_mode": {
    "name": "ipython",
    "version": 3
   },
   "file_extension": ".py",
   "mimetype": "text/x-python",
   "name": "python",
   "nbconvert_exporter": "python",
   "pygments_lexer": "ipython3",
   "version": "3.7.3"
  }
 },
 "nbformat": 4,
 "nbformat_minor": 2
}
